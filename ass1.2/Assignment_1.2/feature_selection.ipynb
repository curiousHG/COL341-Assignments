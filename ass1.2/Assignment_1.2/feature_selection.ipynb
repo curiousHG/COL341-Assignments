{
 "cells": [
  {
   "cell_type": "code",
   "execution_count": 1,
   "source": [
    "import sys\n",
    "import numpy as np\n",
    "import scipy as sp\n",
    "from scipy.special import softmax\n",
    "import pandas as pd\n"
   ],
   "outputs": [],
   "metadata": {}
  },
  {
   "cell_type": "code",
   "execution_count": 3,
   "source": [
    "train_path = 'data/train.csv'\n",
    "test_path = 'data/test.csv'\n",
    "train = pd.read_csv(train_path, index_col = 0)    \n",
    "test = pd.read_csv(test_path, index_col = 0)\n",
    "y_train = np.array(train['Length of Stay'])\n",
    "train = train.drop(columns = ['Length of Stay'])\n",
    "data = pd.concat([train, test], ignore_index = True)\n",
    "cols = train.columns\n",
    "cols = cols[:-1]\n",
    "data = pd.get_dummies(data, columns=cols, drop_first=True)\n",
    "data = data.to_numpy()\n",
    "\n",
    "X_train = data[:train.shape[0], :]\n",
    "X_test = data[train.shape[0]:, :]\n",
    "\n",
    "# b = np.zeros((X_train.shape[0], 1))\n",
    "b = np.ones((X_train.shape[0], 1))\n",
    "X_train = np.concatenate((b,X_train), axis=1)\n",
    "\n",
    "# b = np.zeros((X_test.shape[0], 1))\n",
    "b = np.ones((X_test.shape[0], 1))\n",
    "X_test = np.concatenate((b,X_test), axis=1)\n",
    "\n",
    "y_true = pd.get_dummies(y_train)\n",
    "y_true = y_true.to_numpy()"
   ],
   "outputs": [],
   "metadata": {}
  },
  {
   "cell_type": "code",
   "execution_count": 4,
   "source": [
    "w = np.zeros(shape = (X_train.shape[1], y_true.shape[1]))\n"
   ],
   "outputs": [],
   "metadata": {}
  },
  {
   "cell_type": "code",
   "execution_count": 10,
   "source": [
    "from sklearn.feature_selection import SelectKBest, f_classif\n",
    "X_new = SelectKBest(f_classif, k=500).fit_transform(X_train, y_train)\n"
   ],
   "outputs": [
    {
     "output_type": "stream",
     "name": "stderr",
     "text": [
      "/usr/local/lib/python3.7/site-packages/sklearn/feature_selection/_univariate_selection.py:115: UserWarning: Features [   0   67  112  240  293  479  534 1575 1625] are constant.\n",
      "  UserWarning)\n",
      "/usr/local/lib/python3.7/site-packages/sklearn/feature_selection/_univariate_selection.py:116: RuntimeWarning: invalid value encountered in true_divide\n",
      "  f = msb / msw\n"
     ]
    }
   ],
   "metadata": {}
  },
  {
   "cell_type": "code",
   "execution_count": 11,
   "source": [
    "#xgbclassifier\n",
    "from xgboost import XGBClassifier\n",
    "from sklearn.model_selection import GridSearchCV\n",
    "train_path = 'data/train_large.csv'\n",
    "test_path = 'data/test.csv'\n",
    "train = pd.read_csv(train_path, index_col = 0)    \n",
    "\n",
    "\n"
   ],
   "outputs": [
    {
     "output_type": "execute_result",
     "data": {
      "text/plain": [
       "(100000, 500)"
      ]
     },
     "metadata": {},
     "execution_count": 11
    }
   ],
   "metadata": {}
  }
 ],
 "metadata": {
  "orig_nbformat": 4,
  "language_info": {
   "name": "python",
   "version": "3.7.10",
   "mimetype": "text/x-python",
   "codemirror_mode": {
    "name": "ipython",
    "version": 3
   },
   "pygments_lexer": "ipython3",
   "nbconvert_exporter": "python",
   "file_extension": ".py"
  },
  "kernelspec": {
   "name": "python3",
   "display_name": "Python 3.7.10 64-bit"
  },
  "interpreter": {
   "hash": "c6ad8bbb4d9643c765693fcf4277b69a478f70446993b6b75fa7d8e9c535655f"
  }
 },
 "nbformat": 4,
 "nbformat_minor": 2
}