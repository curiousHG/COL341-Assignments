{
 "cells": [
  {
   "cell_type": "code",
   "execution_count": null,
   "source": [
    "import numpy as np\n",
    "import scipy as sp\n",
    "import pandas as pd\n",
    "import matplotlib.pyplot as plt\n",
    "data = pd.read_csv('data/train_large.csv')"
   ],
   "outputs": [],
   "metadata": {}
  },
  {
   "cell_type": "code",
   "execution_count": null,
   "source": [
    "rep = [  \n",
    "        \"Facility Id\",\n",
    "        \"CCS Procedure Description\",\n",
    "        \"CCS Diagnosis Description\",\n",
    "        \"APR DRG Description\",\n",
    "        \"APR MDC Description\",\n",
    "        \"APR Severity of Illness Description\",\n",
    "        \"Unnamed: 0\"\n",
    "]\n",
    "todrop = rep\n",
    "# Features for polynomial\n",
    "to_poly = ['Length of Stay','Birth Weight','Facility Name','APR DRG Code','CCS Diagnosis Code', 'CCS Procedure Code','Operating Certificate Number']\n",
    "# Features for one hot encoding\n",
    "to_onehot = [\n",
    "        'APR Medical Surgical Description','APR Risk of Mortality', 'APR Severity of Illness Code','APR MDC Code',\n",
    "        'Emergency Department Indicator','Health Service Area','Type of Admission',\n",
    "        'Age Group', 'Gender', 'Race', 'Ethnicity','Emergency Department Indicator',\n",
    "        'Payment Typology 1', 'Payment Typology 2', 'Payment Typology 3','Patient Disposition','Hospital County','Zip Code - 3 digits'\n",
    "]"
   ],
   "outputs": [],
   "metadata": {}
  },
  {
   "cell_type": "code",
   "execution_count": null,
   "source": [
    "data = data.drop(todrop,axis = 1)\n",
    "X = data.drop(['Total Costs'],axis = 1)\n",
    "y = data['Total Costs']"
   ],
   "outputs": [],
   "metadata": {}
  },
  {
   "cell_type": "code",
   "execution_count": null,
   "source": [
    "from sklearn.preprocessing import OneHotEncoder, PolynomialFeatures\n",
    "ohe = OneHotEncoder(drop = 'first',sparse = False)\n",
    "poly = PolynomialFeatures(degree = 2,include_bias = False)\n",
    "X_cont = poly.fit_transform(X[to_poly])\n",
    "X_ohe = ohe.fit_transform(X[to_onehot])\n",
    "b = np.ones((X_cont.shape[0],1))\n",
    "X = np.c_[b,X_cont,X_ohe]"
   ],
   "outputs": [],
   "metadata": {}
  },
  {
   "cell_type": "code",
   "execution_count": null,
   "source": [
    "X.shape"
   ],
   "outputs": [],
   "metadata": {}
  },
  {
   "cell_type": "code",
   "execution_count": null,
   "source": [
    "from sklearn.model_selection import train_test_split\n",
    "train_x, test_x, train_y,test_y = train_test_split(X,y,test_size=0.2,random_state=42)"
   ],
   "outputs": [],
   "metadata": {}
  },
  {
   "cell_type": "code",
   "execution_count": null,
   "source": [
    "from sklearn.linear_model import LassoLars\n",
    "model = LassoLars(alpha=0.1).fit(train_x,train_y)"
   ],
   "outputs": [],
   "metadata": {}
  },
  {
   "cell_type": "code",
   "execution_count": null,
   "source": [
    "model.score(test_x,test_y),model.score(train_x,train_y),model.score(X,y)"
   ],
   "outputs": [],
   "metadata": {}
  },
  {
   "cell_type": "code",
   "execution_count": null,
   "source": [
    "w = np.dot(np.linalg.inv(np.dot(train_x.T,train_x) + 10*np.identity(train_x.shape[1])),np.dot(train_x.T,train_y))"
   ],
   "outputs": [],
   "metadata": {}
  },
  {
   "cell_type": "code",
   "execution_count": null,
   "source": [
    "from sklearn.metrics import r2_score\n",
    "r2_score(train_y,np.dot(train_x,w)),r2_score(test_y,np.dot(test_x,w)),r2_score(y,np.dot(X,w))"
   ],
   "outputs": [],
   "metadata": {}
  }
 ],
 "metadata": {
  "orig_nbformat": 4,
  "language_info": {
   "name": "python",
   "version": "3.7.10",
   "mimetype": "text/x-python",
   "codemirror_mode": {
    "name": "ipython",
    "version": 3
   },
   "pygments_lexer": "ipython3",
   "nbconvert_exporter": "python",
   "file_extension": ".py"
  },
  "kernelspec": {
   "name": "python3",
   "display_name": "Python 3.7.10 64-bit"
  },
  "interpreter": {
   "hash": "c6ad8bbb4d9643c765693fcf4277b69a478f70446993b6b75fa7d8e9c535655f"
  }
 },
 "nbformat": 4,
 "nbformat_minor": 2
}