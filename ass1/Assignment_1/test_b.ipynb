{
 "cells": [
  {
   "cell_type": "code",
   "execution_count": 1,
   "source": [
    "import numpy as np\n",
    "import scipy as sp\n",
    "import pandas as pd\n",
    "data = pd.read_csv('data/train.csv')\n",
    "reg = np.loadtxt(\"regularization.txt\",delimiter = '\\n')\n"
   ],
   "outputs": [],
   "metadata": {}
  },
  {
   "cell_type": "code",
   "execution_count": 4,
   "source": [
    "def train_kFold_with_r(r,data,folds):\n",
    "    acc = np.zeros(folds)\n",
    "    for i in range(folds):\n",
    "        train_data = np.array(data[data.fold != i])\n",
    "        test_data = np.array(data[data.fold == i])\n",
    "        x = train_data[:,1:-2]\n",
    "        x = np.c_[np.ones(x.shape[0]),x]\n",
    "        y = train_data[:,-2]\n",
    "        test_x = test_data[:,1:-2]\n",
    "        test_x = np.c_[np.ones(test_x.shape[0]),test_x]\n",
    "        test_y = test_data[:,-2]\n",
    "        w = np.dot(np.linalg.inv(np.dot(x.T,x)+r*np.identity(x.shape[1])),np.dot(x.T,y))\n",
    "        acc[i] = np.linalg.norm(test_y-np.dot(test_x,w))/np.linalg.norm(test_y)\n",
    "    return np.mean(acc)"
   ],
   "outputs": [],
   "metadata": {}
  },
  {
   "cell_type": "code",
   "execution_count": 5,
   "source": [
    "folds = 10\n",
    "data[\"fold\"] = data.index.values%folds\n",
    "d = {'regularization':[], 'accuracy':[]}\n",
    "for r in reg:\n",
    "    d['regularization'].append(r)\n",
    "    v = train_kFold_with_r(r,data,folds)\n",
    "    d['accuracy'].append(v)\n",
    "mini = np.argmin(d['accuracy'])\n",
    "mini_r = d['regularization'][mini]\n",
    "mini_r"
   ],
   "outputs": [
    {
     "output_type": "execute_result",
     "data": {
      "text/plain": [
       "30.0"
      ]
     },
     "metadata": {},
     "execution_count": 5
    }
   ],
   "metadata": {}
  },
  {
   "cell_type": "code",
   "execution_count": 4,
   "source": [
    "test = np.array(pd.read_csv('data/test.csv'))"
   ],
   "outputs": [],
   "metadata": {}
  },
  {
   "cell_type": "code",
   "execution_count": 5,
   "source": [
    "fdata = np.array(data.drop([\"fold\"],axis = 1))\n",
    "x = fdata[:,1:-1]\n",
    "x = np.c_[np.ones(x.shape[0]),x]\n",
    "y = fdata[:,-1]\n",
    "w = np.dot(np.linalg.inv(np.dot(x.T,x)+mini_r*np.identity(x.shape[1])),np.dot(x.T,y))\n",
    "w\n"
   ],
   "outputs": [
    {
     "output_type": "execute_result",
     "data": {
      "text/plain": [
       "array([-4.29110841e+03,  1.40698760e+02, -6.15095018e+01,  1.40428580e-03,\n",
       "       -7.88298461e-01,  1.32390400e+01, -8.24764670e+02, -1.10559629e+00,\n",
       "        6.18278550e+02,  2.87306433e+02, -2.53579724e+02,  2.59923373e+03,\n",
       "        4.58607836e+00, -2.32958407e+01, -1.85351403e+01, -2.02917327e+00,\n",
       "       -6.61846466e+00,  8.79798934e+00, -2.64157654e+01, -4.41147486e-01,\n",
       "        8.65091445e+02, -2.37994362e+02,  1.41602307e+03, -1.04612658e+03,\n",
       "       -1.27584121e+03,  1.28169898e+04, -1.12967328e+01,  1.17977211e+02,\n",
       "        7.10152941e+01,  9.17111553e-02, -2.25551516e+03])"
      ]
     },
     "metadata": {},
     "execution_count": 5
    }
   ],
   "metadata": {}
  },
  {
   "cell_type": "code",
   "execution_count": 12,
   "source": [
    "test_x = test[:,1:]\n",
    "test_x = np.c_[np.ones(test_x.shape[0]),test_x]\n",
    "output = np.dot(test_x,w)"
   ],
   "outputs": [],
   "metadata": {}
  },
  {
   "cell_type": "code",
   "execution_count": null,
   "source": [
    "np.savetxt(\"out_b.txt\",output)\n",
    "np.savetxt(\"w_b.txt\",w)"
   ],
   "outputs": [],
   "metadata": {}
  },
  {
   "cell_type": "code",
   "execution_count": null,
   "source": [],
   "outputs": [],
   "metadata": {}
  }
 ],
 "metadata": {
  "orig_nbformat": 4,
  "language_info": {
   "name": "python",
   "version": "3.7.10",
   "mimetype": "text/x-python",
   "codemirror_mode": {
    "name": "ipython",
    "version": 3
   },
   "pygments_lexer": "ipython3",
   "nbconvert_exporter": "python",
   "file_extension": ".py"
  },
  "kernelspec": {
   "name": "python3",
   "display_name": "Python 3.7.10 64-bit"
  },
  "interpreter": {
   "hash": "c6ad8bbb4d9643c765693fcf4277b69a478f70446993b6b75fa7d8e9c535655f"
  }
 },
 "nbformat": 4,
 "nbformat_minor": 2
}