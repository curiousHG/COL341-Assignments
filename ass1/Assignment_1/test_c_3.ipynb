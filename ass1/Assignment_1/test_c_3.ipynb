{
 "cells": [
  {
   "cell_type": "code",
   "execution_count": 1,
   "source": [
    "import numpy as np\n",
    "import scipy as sp\n",
    "import pandas as pd\n",
    "import matplotlib.pyplot as plt\n",
    "data = pd.read_csv('data/train_large.csv')\n"
   ],
   "outputs": [],
   "metadata": {}
  },
  {
   "cell_type": "code",
   "execution_count": null,
   "source": [
    "rep = [  \n",
    "        \"Facility Id\",\n",
    "        \"CCS Procedure Code\",\n",
    "        \"CCS Diagnosis Code\",\n",
    "        \"APR DRG Code\",\n",
    "        \"APR MDC Code\",\n",
    "        \"APR Severity of Illness Code\",\n",
    "        \"Unnamed: 0\"\n",
    "]\n",
    "to_drop = rep\n",
    "# Features for polynomial\n",
    "to_poly = [\n",
    "        'Length of Stay','Birth Weight','Facility Name','APR DRG Description',\n",
    "        'CCS Diagnosis Description', 'CCS Procedure Description',\n",
    "        'Operating Certificate Number'\n",
    "]\n",
    "# Features for one hot encoding\n",
    "to_onehot = [\n",
    "        'APR Medical Surgical Description','APR Risk of Mortality', 'APR Severity of Illness Description','APR MDC Description',\n",
    "        'Emergency Department Indicator','Health Service Area','Type of Admission',\n",
    "        'Age Group', 'Gender', 'Race', 'Ethnicity',\n",
    "        'Payment Typology 1', 'Payment Typology 2', 'Payment Typology 3','Patient Disposition','Hospital County','Zip Code - 3 digits'\n",
    "]"
   ],
   "outputs": [],
   "metadata": {}
  },
  {
   "cell_type": "code",
   "execution_count": null,
   "source": [
    "data = data.drop(to_drop,axis=1)"
   ],
   "outputs": [],
   "metadata": {}
  },
  {
   "cell_type": "code",
   "execution_count": 2,
   "source": [
    "X = data.drop(['Total Costs'],axis = 1)\n",
    "y = data['Total Costs']"
   ],
   "outputs": [],
   "metadata": {}
  },
  {
   "cell_type": "code",
   "execution_count": null,
   "source": [
    "from sklearn.preprocessing import OneHotEncoder, PolynomialFeatures\n",
    "ohe = OneHotEncoder(drop = 'first',sparse = False)\n",
    "poly = PolynomialFeatures(degree = 2,include_bias = False)\n",
    "X_cont = poly.fit_transform(X[to_poly])\n",
    "X_ohe = ohe.fit_transform(X[to_onehot])\n",
    "b = np.ones((X_cont.shape[0],1))\n",
    "X = np.c_[b,X_cont,X_ohe]"
   ],
   "outputs": [],
   "metadata": {}
  },
  {
   "cell_type": "code",
   "execution_count": 5,
   "source": [
    "X.shape"
   ],
   "outputs": [
    {
     "output_type": "execute_result",
     "data": {
      "text/plain": [
       "(1600000, 31)"
      ]
     },
     "metadata": {},
     "execution_count": 5
    }
   ],
   "metadata": {}
  },
  {
   "cell_type": "code",
   "execution_count": 3,
   "source": [
    "test = pd.read_csv('data/test.csv')"
   ],
   "outputs": [],
   "metadata": {}
  },
  {
   "cell_type": "code",
   "execution_count": null,
   "source": [
    "test = test.drop(to_drop,axis = 1)\n",
    "test_cont = poly.transform(test[to_poly])\n",
    "test_ohe = ohe.transform(test[to_onehot])\n",
    "b = np.ones((test_cont.shape[0],1))\n",
    "test = np.c_[b,test_cont,test_ohe]"
   ],
   "outputs": [],
   "metadata": {}
  },
  {
   "cell_type": "code",
   "execution_count": 4,
   "source": [
    "test.shape"
   ],
   "outputs": [
    {
     "output_type": "execute_result",
     "data": {
      "text/plain": [
       "(10000, 31)"
      ]
     },
     "metadata": {},
     "execution_count": 4
    }
   ],
   "metadata": {}
  },
  {
   "cell_type": "code",
   "execution_count": 6,
   "source": [
    "from xgboost import XGBRegressor\n",
    "from sklearn.model_selection import train_test_split\n",
    "X_train, X_test, y_train, y_test = train_test_split(X, y, test_size=0.2, random_state=0)\n",
    "model = XGBRegressor(n_estmators = 50, learning_rate = 0.1, max_depth = 6, n_jobs = -1, random_state = 41,verbrosity = 2)\n"
   ],
   "outputs": [],
   "metadata": {}
  },
  {
   "cell_type": "code",
   "execution_count": 7,
   "source": [
    "model.fit(X_train, y_train)"
   ],
   "outputs": [
    {
     "output_type": "stream",
     "name": "stdout",
     "text": [
      "[19:37:41] WARNING: /Users/travis/build/dmlc/xgboost/src/learner.cc:573: \n",
      "Parameters: { \"n_estmators\", \"verbrosity\" } might not be used.\n",
      "\n",
      "  This may not be accurate due to some parameters are only used in language bindings but\n",
      "  passed down to XGBoost core.  Or some parameters are not used but slip through this\n",
      "  verification. Please open an issue if you find above cases.\n",
      "\n",
      "\n"
     ]
    },
    {
     "output_type": "execute_result",
     "data": {
      "text/plain": [
       "XGBRegressor(base_score=0.5, booster='gbtree', colsample_bylevel=1,\n",
       "             colsample_bynode=1, colsample_bytree=1, gamma=0, gpu_id=-1,\n",
       "             importance_type='gain', interaction_constraints='',\n",
       "             learning_rate=0.1, max_delta_step=0, max_depth=6,\n",
       "             min_child_weight=1, missing=nan, monotone_constraints='()',\n",
       "             n_estimators=100, n_estmators=50, n_jobs=-1, num_parallel_tree=1,\n",
       "             random_state=41, reg_alpha=0, reg_lambda=1, scale_pos_weight=1,\n",
       "             subsample=1, tree_method='exact', validate_parameters=1,\n",
       "             verbosity=None, verbrosity=2)"
      ]
     },
     "metadata": {},
     "execution_count": 7
    }
   ],
   "metadata": {}
  },
  {
   "cell_type": "code",
   "execution_count": 8,
   "source": [
    "model.score(X_test, y_test),model.score(X,y)"
   ],
   "outputs": [
    {
     "output_type": "execute_result",
     "data": {
      "text/plain": [
       "(0.8085614637281895, 0.8543131834074443)"
      ]
     },
     "metadata": {},
     "execution_count": 8
    }
   ],
   "metadata": {}
  },
  {
   "cell_type": "code",
   "execution_count": null,
   "source": [
    "model.feature_importances_"
   ],
   "outputs": [],
   "metadata": {}
  },
  {
   "cell_type": "code",
   "execution_count": 9,
   "source": [
    "output = model.predict(test)"
   ],
   "outputs": [],
   "metadata": {}
  },
  {
   "cell_type": "code",
   "execution_count": 10,
   "source": [
    "np.savetxt(\"xgboost_r2-85.txt\",output)"
   ],
   "outputs": [],
   "metadata": {}
  },
  {
   "cell_type": "code",
   "execution_count": 2,
   "source": [
    "from sklearn.metrics import r2_score\n",
    "import numpy as np\n",
    "pred = np.loadtxt(\"WO/out_c.txt\")\n",
    "best = np.loadtxt(\"WO/xgboost_r2-85.txt\")\n",
    "r2_score(best,pred)"
   ],
   "outputs": [
    {
     "output_type": "execute_result",
     "data": {
      "text/plain": [
       "0.8456541873560363"
      ]
     },
     "metadata": {},
     "execution_count": 2
    }
   ],
   "metadata": {}
  },
  {
   "cell_type": "code",
   "execution_count": 14,
   "source": [],
   "outputs": [
    {
     "output_type": "execute_result",
     "data": {
      "text/plain": [
       "0.7775842853565693"
      ]
     },
     "metadata": {},
     "execution_count": 14
    }
   ],
   "metadata": {}
  }
 ],
 "metadata": {
  "orig_nbformat": 4,
  "language_info": {
   "name": "python",
   "version": "3.7.10",
   "mimetype": "text/x-python",
   "codemirror_mode": {
    "name": "ipython",
    "version": 3
   },
   "pygments_lexer": "ipython3",
   "nbconvert_exporter": "python",
   "file_extension": ".py"
  },
  "kernelspec": {
   "name": "python3",
   "display_name": "Python 3.7.10 64-bit"
  },
  "interpreter": {
   "hash": "c6ad8bbb4d9643c765693fcf4277b69a478f70446993b6b75fa7d8e9c535655f"
  }
 },
 "nbformat": 4,
 "nbformat_minor": 2
}