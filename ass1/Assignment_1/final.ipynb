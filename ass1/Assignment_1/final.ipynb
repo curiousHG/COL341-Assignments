{
 "cells": [
  {
   "cell_type": "code",
   "execution_count": 1,
   "source": [
    "import numpy as np\n",
    "from numpy.linalg.linalg import norm\n",
    "import scipy as sp\n",
    "import sys\n",
    "import pandas as pd\n",
    "from sklearn.preprocessing import PolynomialFeatures\n",
    "from sklearn.linear_model import LassoLars\n",
    "from sklearn.metrics import r2_score\n",
    "from sklearn.model_selection import train_test_split"
   ],
   "outputs": [],
   "metadata": {}
  },
  {
   "cell_type": "code",
   "execution_count": null,
   "source": [
    "def moore_penrose_pseudoinverse(X,y,lamb):\n",
    "    return np.linalg.inv(np.dot(X.T,X) + lamb*np.identity(X.shape[1])).dot(X.T).dot(y)"
   ],
   "outputs": [],
   "metadata": {}
  },
  {
   "cell_type": "code",
   "execution_count": null,
   "source": [
    "data = \"data/train_large.csv\"\n",
    "predict_data =\"data/test.csv\"\n",
    "data = pd.read_csv(data)\n",
    "# to_drop = [  \n",
    "#     \"Facility Id\",\n",
    "#     \"CCS Procedure Code\",\n",
    "#     \"CCS Diagnosis Code\",\n",
    "#     \"APR DRG Code\",\n",
    "#     \"APR MDC Code\",\n",
    "#     \"APR Severity of Illness Code\",\n",
    "#     \"Unnamed: 0\"\n",
    "# ]\n",
    "# data.drop(to_drop,axis=1,inplace=True)\n",
    "X = data.drop(['Total Costs'],axis = 1)\n",
    "y = data['Total Costs']\n",
    "\n",
    "poly = PolynomialFeatures(degree=2,include_bias=False)\n",
    "X_poly = poly.fit_transform(X)\n",
    "\n",
    "sampling_set = np.random.choice(X.shape[0],size=int(X.shape[0]*0.3),replace=False)\n",
    "lars_X = X_poly[sampling_set]\n",
    "lars_y = y[sampling_set]\n",
    "model = LassoLars(alpha=0.1).fit(lars_X,lars_y)\n",
    "\n",
    "active_X = np.c_[np.ones(X_poly.shape[0]),X_poly[:,model.active_]]"
   ],
   "outputs": [],
   "metadata": {}
  },
  {
   "cell_type": "code",
   "execution_count": null,
   "source": [
    "#CROSS VALIDATION\n",
    "lambdas = [0.001,0.003,0.01,0.03,0.1,0.3,1,3,10,30,100,300,1000]\n",
    "train_x,test_x,train_y,test_y = train_test_split(active_X,y,test_size=0.7,random_state=42)\n",
    "\n",
    "print(\"Start cv\")\n",
    "fold = np.random.randint(0,10,size = train_x.shape[0])\n",
    "d = {'regularization':[], 'accuracy':[]}"
   ],
   "outputs": [],
   "metadata": {}
  },
  {
   "cell_type": "code",
   "execution_count": null,
   "source": [
    "train_x.shape,train_y.shape"
   ],
   "outputs": [],
   "metadata": {}
  },
  {
   "cell_type": "code",
   "execution_count": null,
   "source": [
    "def cv(r,cv_x,cv_y,folds):\n",
    "    acc = np.zeros(folds)\n",
    "    for i in range(folds):\n",
    "        train_cv_x = cv_x[np.where(fold != i)]\n",
    "        test_cv_x = cv_x[np.where(fold == i)]\n",
    "        train_cv_y = cv_y[fold != i]\n",
    "        test_cv_y = cv_y[fold == i]\n",
    "        w = moore_penrose_pseudoinverse(train_cv_x,train_cv_y,r)\n",
    "        acc[i] = r2_score(test_cv_y,np.dot(test_cv_x,w))\n",
    "    return np.mean(acc)\n",
    "    \n",
    "cv(10,train_x,train_y,10)"
   ],
   "outputs": [],
   "metadata": {}
  },
  {
   "cell_type": "code",
   "execution_count": null,
   "source": [
    "for r in lambdas:\n",
    "    d['regularization'].append(r)\n",
    "    v = cv(r,train_x,train_y,10)\n",
    "    d['accuracy'].append(v)\n",
    "    print(f\"{r} {v}\")\n",
    "print(\"Done CV\")"
   ],
   "outputs": [],
   "metadata": {}
  },
  {
   "cell_type": "code",
   "execution_count": null,
   "source": [
    "mini = np.argmax(d['accuracy'])\n",
    "mini_r = d['regularization'][mini]\n",
    "print(mini_r)\n"
   ],
   "outputs": [],
   "metadata": {}
  },
  {
   "cell_type": "code",
   "execution_count": null,
   "source": [
    "w = moore_penrose_pseudoinverse(active_X,y,mini_r)\n",
    "pred_data = pd.read_csv(predict_data)\n",
    "pred_data.drop(to_drop,axis=1,inplace=True)\n",
    "poly_pred = poly.fit_transform(pred_data)\n",
    "pred_X = np.c_[np.ones(poly_pred.shape[0]),poly_pred[:,model.active_]]\n",
    "pred_y = np.dot(pred_X,w)\n",
    "np.savetxt(sys.argv[4],pred_y)"
   ],
   "outputs": [],
   "metadata": {}
  }
 ],
 "metadata": {
  "orig_nbformat": 4,
  "language_info": {
   "name": "python",
   "version": "3.7.10",
   "mimetype": "text/x-python",
   "codemirror_mode": {
    "name": "ipython",
    "version": 3
   },
   "pygments_lexer": "ipython3",
   "nbconvert_exporter": "python",
   "file_extension": ".py"
  },
  "kernelspec": {
   "name": "python3",
   "display_name": "Python 3.7.10 64-bit"
  },
  "interpreter": {
   "hash": "c6ad8bbb4d9643c765693fcf4277b69a478f70446993b6b75fa7d8e9c535655f"
  }
 },
 "nbformat": 4,
 "nbformat_minor": 2
}