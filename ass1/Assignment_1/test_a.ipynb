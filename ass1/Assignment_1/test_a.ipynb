{
 "cells": [
  {
   "cell_type": "code",
   "execution_count": 1,
   "source": [
    "import numpy as np\n",
    "import scipy as sp\n",
    "import pandas as pd\n",
    "data = pd.read_csv('data/train.csv')"
   ],
   "outputs": [],
   "metadata": {}
  },
  {
   "cell_type": "code",
   "execution_count": 2,
   "source": [
    "data_y = data[\"Total Costs\"]\n",
    "data_x = data.drop(\"Total Costs\", axis=1)\n",
    "data_x = data_x.iloc[:,1:]\n"
   ],
   "outputs": [],
   "metadata": {}
  },
  {
   "cell_type": "code",
   "execution_count": 3,
   "source": [
    "X = np.array(data_x)\n",
    "X = np.c_[np.ones(X.shape[0]),X]\n",
    "y = np.array(data_y)"
   ],
   "outputs": [],
   "metadata": {}
  },
  {
   "cell_type": "code",
   "execution_count": 4,
   "source": [
    "w = np.dot(np.linalg.inv(np.dot(X.T,X)),np.dot(X.T,y))"
   ],
   "outputs": [],
   "metadata": {}
  },
  {
   "cell_type": "code",
   "execution_count": 5,
   "source": [
    "w"
   ],
   "outputs": [
    {
     "output_type": "execute_result",
     "data": {
      "text/plain": [
       "array([-4.29111115e+03,  1.40698774e+02, -6.15095011e+01,  1.40428581e-03,\n",
       "       -7.88298461e-01,  1.32390403e+01, -8.24764639e+02, -1.10559384e+00,\n",
       "        6.18278610e+02,  2.87306453e+02, -2.53579634e+02,  2.59923372e+03,\n",
       "        4.58610633e+00, -2.32958361e+01, -1.85351402e+01, -2.02917306e+00,\n",
       "       -6.61846464e+00,  8.79798967e+00, -2.64157655e+01, -4.41147287e-01,\n",
       "        8.65091449e+02, -2.37994356e+02,  1.41602315e+03, -1.04612652e+03,\n",
       "       -1.27584116e+03,  1.28169902e+04, -1.12967203e+01,  1.17977228e+02,\n",
       "        7.10153393e+01,  9.17112203e-02, -2.25551499e+03])"
      ]
     },
     "metadata": {},
     "execution_count": 5
    }
   ],
   "metadata": {}
  },
  {
   "cell_type": "code",
   "execution_count": 6,
   "source": [
    "test_Data = pd.read_csv('data/test.csv')\n",
    "test_Data = test_Data.iloc[:,1:]\n",
    "test_Data = np.c_[np.ones(test_Data.shape[0]),test_Data]\n",
    "output = np.dot(test_Data,w)"
   ],
   "outputs": [],
   "metadata": {}
  },
  {
   "cell_type": "code",
   "execution_count": 7,
   "source": [
    "output"
   ],
   "outputs": [
    {
     "output_type": "execute_result",
     "data": {
      "text/plain": [
       "array([19657.33339915, 23073.83122546, 43489.37709943, ...,\n",
       "       -1188.76058519, 12060.31794149,  3659.86706476])"
      ]
     },
     "metadata": {},
     "execution_count": 7
    }
   ],
   "metadata": {}
  },
  {
   "cell_type": "code",
   "execution_count": 12,
   "source": [
    "from sklearn.model_selection import train_test_split\n",
    "from sklearn.metrics import r2_score\n",
    "X_train, X_test, y_train, y_test = train_test_split(X, y, test_size=0.2, random_state=0)"
   ],
   "outputs": [],
   "metadata": {}
  },
  {
   "cell_type": "code",
   "execution_count": 14,
   "source": [
    "w = np.dot(np.linalg.inv(np.dot(X_train.T,X_train)),np.dot(X_train.T,y_train))\n",
    "print(r2_score(y_test,np.dot(X_test,w)))"
   ],
   "outputs": [
    {
     "output_type": "stream",
     "name": "stdout",
     "text": [
      "0.5823605716168887\n"
     ]
    }
   ],
   "metadata": {}
  }
 ],
 "metadata": {
  "orig_nbformat": 4,
  "language_info": {
   "name": "python",
   "version": "3.7.10",
   "mimetype": "text/x-python",
   "codemirror_mode": {
    "name": "ipython",
    "version": 3
   },
   "pygments_lexer": "ipython3",
   "nbconvert_exporter": "python",
   "file_extension": ".py"
  },
  "kernelspec": {
   "name": "python3",
   "display_name": "Python 3.7.10 64-bit"
  },
  "interpreter": {
   "hash": "c6ad8bbb4d9643c765693fcf4277b69a478f70446993b6b75fa7d8e9c535655f"
  }
 },
 "nbformat": 4,
 "nbformat_minor": 2
}