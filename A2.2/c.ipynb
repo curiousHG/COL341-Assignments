{
  "cells": [
    {
      "cell_type": "code",
      "execution_count": null,
      "metadata": {
        "id": "gOu6iyVY6ZEK"
      },
      "outputs": [],
      "source": [
        "import torch\n",
        "import torch.nn as nn\n",
        "import torch.nn.functional as F\n",
        "import torch.optim as optim\n",
        "from torch.utils.data import Dataset, DataLoader\n",
        "from torchvision import transforms\n",
        "import numpy as np\n",
        "import pandas as pd"
      ]
    },
    {
      "cell_type": "code",
      "execution_count": null,
      "metadata": {
        "id": "95y4TOjK6ZER"
      },
      "outputs": [],
      "source": [
        "class ImageDataset(Dataset):\n",
        "    \n",
        "    def __init__(self, data_csv, train = True , img_transform=None):\n",
        "        \"\"\"\n",
        "        Dataset init function\n",
        "        \n",
        "        INPUT:\n",
        "        data_csv: Path to csv file containing [data, labels]\n",
        "        train: \n",
        "            True: if the csv file has [labels,data] (Train data and Public Test Data) \n",
        "            False: if the csv file has only [data] and labels are not present.\n",
        "        img_transform: List of preprocessing operations need to performed on image. \n",
        "        \"\"\"\n",
        "        \n",
        "        self.data_csv = data_csv\n",
        "        self.img_transform = img_transform\n",
        "        self.is_train = train\n",
        "        \n",
        "        data = pd.read_csv(data_csv, header=None)\n",
        "        if self.is_train:\n",
        "            images = data.iloc[:,1:].to_numpy()\n",
        "            labels = data.iloc[:,0].astype(int)\n",
        "        else:\n",
        "            images = data.iloc[:,:].to_numpy()\n",
        "            labels = None\n",
        "        \n",
        "        self.images = images\n",
        "        self.labels = labels\n",
        "        print(\"Total Images: {}, Data Shape = {}\".format(len(self.images), images.shape))\n",
        "        \n",
        "    def __len__(self):\n",
        "        \"\"\"Returns total number of samples in the dataset\"\"\"\n",
        "        return len(self.images)\n",
        "    \n",
        "    def __getitem__(self, idx):\n",
        "        \"\"\"\n",
        "        Loads image of the given index and performs preprocessing.\n",
        "        \n",
        "        INPUT: \n",
        "        idx: index of the image to be loaded.\n",
        "        \n",
        "        OUTPUT:\n",
        "        sample: dictionary with keys images (Tensor of shape [1,C,H,W]) and labels (Tensor of labels [1]).\n",
        "        \"\"\"\n",
        "        image = self.images[idx]\n",
        "        image = np.array(image).astype(np.uint8).reshape((32, 32, 3), order= \"F\")\n",
        "        \n",
        "        if self.is_train:\n",
        "            label = self.labels[idx]\n",
        "        else:\n",
        "            label = -1\n",
        "        \n",
        "        image = self.img_transform(image)\n",
        "        \n",
        "        sample = {\"images\": image, \"labels\": label}\n",
        "        return sample"
      ]
    },
    {
      "cell_type": "code",
      "execution_count": null,
      "metadata": {
        "id": "WOQ3H3za6ZEV"
      },
      "outputs": [],
      "source": [
        "class NN(nn.Module):\n",
        "    def __init__(self,n_h1,n_h2,p):\n",
        "        super(NN, self).__init__()\n",
        "        self.conv1 = nn.Conv2d(3, 32, 3,stride=1)\n",
        "        self.bn1 = nn.BatchNorm2d(32)\n",
        "        self.maxpool = nn.MaxPool2d(2,stride=2)\n",
        "        self.conv2 = nn.Conv2d(32, 64, 3,stride=1)\n",
        "        self.bn2 = nn.BatchNorm2d(64)\n",
        "        self.conv3 = nn.Conv2d(64, 512, 3,stride=1)\n",
        "        self.bn3 = nn.BatchNorm2d(512)\n",
        "        self.conv4 = nn.Conv2d(512, 1024, 2,stride=1)\n",
        "        self.fc1 = nn.Linear(1024, n_h1)\n",
        "        self.dropout = nn.Dropout(p)\n",
        "        self.fc2 = nn.Linear(n_h1, n_h2)\n",
        "    \n",
        "    def forward(self, x):\n",
        "        x = F.relu(self.bn1(self.conv1(x)))\n",
        "        x = self.maxpool(x)\n",
        "        x = F.relu(self.bn2(self.conv2(x)))\n",
        "        x = self.maxpool(x)\n",
        "        x = F.relu(self.bn3(self.conv3(x)))\n",
        "        x = self.maxpool(x)\n",
        "        x = F.relu(self.conv4(x))\n",
        "        x = torch.flatten(x, 1)\n",
        "        x = self.fc1(x)\n",
        "        x = F.relu(x)\n",
        "        x = self.dropout(x)\n",
        "        x = self.fc2(x)\n",
        "        return x"
      ]
    },
    {
      "cell_type": "code",
      "execution_count": null,
      "metadata": {},
      "outputs": [],
      "source": [
        "# Data Loader Usage\n",
        "img_transforms = transforms.Compose([transforms.ToPILImage(),transforms.ToTensor()])\n",
        "\n",
        "train_data = \"/content/drive/MyDrive/A2.2/A2.2-Data/train_data.csv\"\n",
        "test_data = \"/content/drive/MyDrive/A2.2/A2.2-Data/public_test.csv\"\n",
        "\n",
        "# train_data = \"A2.2-Data/train_data.csv\"\n",
        "# test_data = \"A2.2-Data/public_test.csv\"\n",
        "\n",
        "train_dataset = ImageDataset(\n",
        "    data_csv = train_data, \n",
        "    train=True, \n",
        "    img_transform=img_transforms\n",
        ")\n",
        "test_dataset = ImageDataset(\n",
        "    data_csv = test_data, \n",
        "    train=True, \n",
        "    img_transform=img_transforms\n",
        ")"
      ]
    },
    {
      "cell_type": "code",
      "execution_count": null,
      "metadata": {
        "id": "VyqZy4q880zq"
      },
      "outputs": [],
      "source": [
        "device = torch.device(\"cuda:0\" if torch.cuda.is_available() else \"cpu\")"
      ]
    },
    {
      "cell_type": "code",
      "execution_count": null,
      "metadata": {
        "id": "a_L54Nup69w9"
      },
      "outputs": [],
      "source": [
        "batch_size = 200\n",
        "epochs = 5\n",
        "l_r = 1e-4\n",
        "NUM_WORKERS = 20\n",
        "torch.manual_seed(51)\n",
        "model = NN(256, 10, 0.2)\n",
        "model.to(device)\n",
        "loss = nn.CrossEntropyLoss().to(device)\n",
        "optimizer = optim.Adam(model.parameters(), lr = l_r)"
      ]
    },
    {
      "cell_type": "code",
      "execution_count": null,
      "metadata": {
        "colab": {
          "base_uri": "https://localhost:8080/"
        },
        "id": "kNvkcy0_UYub",
        "outputId": "f2d5b467-74b1-4c5f-d05c-74c5f8070518"
      },
      "outputs": [],
      "source": [
        "sum(p.numel() for p in model.parameters())"
      ]
    },
    {
      "cell_type": "code",
      "execution_count": null,
      "metadata": {
        "colab": {
          "base_uri": "https://localhost:8080/"
        },
        "id": "Ajmt2cCayNI7",
        "outputId": "7d7e03c5-6921-4ce3-86f2-d3989c34db5e"
      },
      "outputs": [],
      "source": [
        "train_loader = DataLoader(dataset = train_dataset, batch_size = batch_size, shuffle=False, num_workers = NUM_WORKERS)\n",
        "test_loader = DataLoader(dataset = test_dataset, batch_size = len(test_dataset), shuffle=False, num_workers = NUM_WORKERS)"
      ]
    },
    {
      "cell_type": "code",
      "execution_count": null,
      "metadata": {
        "id": "IYuoGKvX9ghs"
      },
      "outputs": [],
      "source": [
        "loss_vals = []\n",
        "accs = []"
      ]
    },
    {
      "cell_type": "code",
      "execution_count": null,
      "metadata": {
        "colab": {
          "base_uri": "https://localhost:8080/"
        },
        "id": "7d3TNkzN6ZEa",
        "outputId": "03e5a590-9ed9-440c-ad57-8b7477b9a99f"
      },
      "outputs": [],
      "source": [
        "for epoch in range(epochs):\n",
        "    train_loss = 0\n",
        "    accu_train = 0\n",
        "    print(\"Epoch:\", epoch+1)\n",
        "    for batch in train_loader:\n",
        "        batch_x, batch_y = batch[\"images\"].to(device), batch[\"labels\"].to(device)\n",
        "        y_hat = model.forward(batch_x)\n",
        "        loss_val = loss(y_hat, batch_y)\n",
        "        train_loss+=loss_val.item()\n",
        "        \n",
        "        optimizer.zero_grad()\n",
        "        loss_val.backward()\n",
        "        optimizer.step()\n",
        "\n",
        "        predictions = y_hat.argmax(dim=1, keepdim=True).squeeze()\n",
        "        correct = (predictions == batch_y).sum().item()\n",
        "        acc = correct / len(batch_x)\n",
        "        accu_train+=acc\n",
        "    for batch in test_loader:\n",
        "        batch_x, batch_y = batch[\"images\"].to(device), batch[\"labels\"].to(device)\n",
        "        y_hat = model.forward(batch_x)\n",
        "        predictions = y_hat.argmax(dim=1, keepdim=True).squeeze()\n",
        "        correct = (predictions == batch_y).sum().item()\n",
        "        acc = correct / len(batch_y)\n",
        "        accs.append(acc)\n",
        "    loss_vals.append(train_loss/len(train_loader))\n",
        "    print(\"Train Loss\",loss_vals[-1])\n",
        "    print(\"Train Accuracy\",accu_train/len(train_loader))\n",
        "    print(\"Test Accuracy\",accs[-1])"
      ]
    },
    {
      "cell_type": "code",
      "execution_count": null,
      "metadata": {
        "id": "0YZJNwmD2Urh"
      },
      "outputs": [],
      "source": [
        "model_path = \"./model.pth\"\n",
        "loss_path = \"./loss.txt\"\n",
        "acc_path = \"./accuracy.txt\"\n",
        "pred_path = \"./predictions.txt\""
      ]
    },
    {
      "cell_type": "code",
      "execution_count": null,
      "metadata": {
        "id": "0vrm-Uz92CSf"
      },
      "outputs": [],
      "source": [
        "torch.save(model.state_dict(), model_path)\n",
        "np.savetxt(acc_path, accs)\n",
        "np.savetxt(loss_path, loss_vals)"
      ]
    },
    {
      "cell_type": "code",
      "execution_count": null,
      "metadata": {
        "colab": {
          "base_uri": "https://localhost:8080/"
        },
        "id": "nq7vKu125YiA",
        "outputId": "1eb7e899-22a3-4f67-880f-ac77dd9d405f"
      },
      "outputs": [],
      "source": [
        "torch.manual_seed(51)\n",
        "model2 = NN(256, 10, 0.2)\n",
        "model2.to(device)\n",
        "model2.load_state_dict(torch.load(model_path, map_location=device))\n",
        "for batch in test_loader:\n",
        "    batch_x, batch_y = batch[\"images\"].to(device), batch[\"labels\"].to(device)\n",
        "    y_hat = model2.forward(batch_x)\n",
        "    y_hat = torch.argmax(y_hat, dim=1)\n",
        "    np.savetxt(\"./predictions.txt\", y_hat.detach().cpu().numpy())"
      ]
    },
    {
      "cell_type": "code",
      "execution_count": null,
      "metadata": {
        "id": "Cl0lJjjW7M0M"
      },
      "outputs": [],
      "source": [
        "a = np.loadtxt(\"predictions.txt\")\n",
        "b = np.loadtxt(\"predictions2.txt\")\n",
        "c = [0 if a[i]==b[i] else 1 for i in range(len(a))]\n",
        "sum(c)"
      ]
    }
  ],
  "metadata": {
    "accelerator": "GPU",
    "colab": {
      "name": "b.ipynb",
      "provenance": []
    },
    "interpreter": {
      "hash": "7a3d88c904243d2c3f246166597f86d1c0a39f3d97496d1fe394945d0c6d436d"
    },
    "kernelspec": {
      "display_name": "Python 3.7.12 64-bit",
      "name": "python3"
    },
    "language_info": {
      "codemirror_mode": {
        "name": "ipython",
        "version": 3
      },
      "file_extension": ".py",
      "mimetype": "text/x-python",
      "name": "python",
      "nbconvert_exporter": "python",
      "pygments_lexer": "ipython3",
      "version": "3.7.12"
    },
    "orig_nbformat": 4
  },
  "nbformat": 4,
  "nbformat_minor": 0
}
