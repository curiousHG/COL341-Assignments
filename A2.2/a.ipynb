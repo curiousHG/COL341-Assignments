{
  "cells": [
    {
      "cell_type": "code",
      "execution_count": 2,
      "metadata": {
        "id": "gOu6iyVY6ZEK"
      },
      "outputs": [],
      "source": [
        "import torch\n",
        "import torch.nn as nn\n",
        "import torch.nn.functional as F\n",
        "import torch.optim as optim\n",
        "from torch.utils.data import Dataset, DataLoader\n",
        "from torchvision import transforms\n",
        "import numpy as np\n",
        "import pandas as pd"
      ]
    },
    {
      "cell_type": "code",
      "execution_count": 3,
      "metadata": {
        "id": "95y4TOjK6ZER"
      },
      "outputs": [],
      "source": [
        "class DevanagariDataset(Dataset):\n",
        "    \n",
        "    def __init__(self, data_csv, train = True , img_transform = None):\n",
        "        \"\"\"\n",
        "        Dataset init function\n",
        "        \n",
        "        INPUT:\n",
        "        data_csv: Path to csv file containing [data, labels]\n",
        "        train: \n",
        "            True: if the csv file has [data, labels] (Train data and Public Test Data) \n",
        "            False: if the csv file has only [data] and labels are not present.\n",
        "        img_transform: List of preprocessing operations need to performed on image. \n",
        "        \"\"\"\n",
        "        self.data_csv = data_csv\n",
        "        self.img_transform = img_transform\n",
        "        self.is_train = train\n",
        "        \n",
        "        data = pd.read_csv(data_csv, header=None)\n",
        "        if self.is_train:\n",
        "            images = data.iloc[:,:-1].to_numpy()\n",
        "            labels = data.iloc[:,-1].astype(int)\n",
        "        else:\n",
        "            images = data.iloc[:,:].to_numpy()\n",
        "            labels = None\n",
        "        \n",
        "        self.images = images\n",
        "        self.labels = labels\n",
        "        print(\"Total Images: {}, Data Shape = {}\".format(len(self.images), images.shape))\n",
        "        \n",
        "    def __len__(self):\n",
        "        \"\"\"Returns total number of samples in the dataset\"\"\"\n",
        "        return len(self.images)\n",
        "    \n",
        "    def __getitem__(self, idx):\n",
        "        \"\"\"\n",
        "        Loads image of the given index and performs preprocessing.\n",
        "        \n",
        "        INPUT: \n",
        "        idx: index of the image to be loaded.\n",
        "        \n",
        "        OUTPUT:\n",
        "        sample: dictionary with keys images (Tensor of shape [1,C,H,W]) and labels (Tensor of labels [1]).\n",
        "        \"\"\"\n",
        "        image = self.images[idx]\n",
        "        image = np.array(image).astype(np.uint8).reshape(32,32, 1)\n",
        "        \n",
        "        if self.is_train:\n",
        "            label = self.labels[idx]\n",
        "        else:\n",
        "            label = -1\n",
        "        \n",
        "        image = self.img_transform(image)\n",
        "        # print(image.shape, label, type(image))\n",
        "        sample = {\"images\": image, \"labels\": label}\n",
        "        return sample"
      ]
    },
    {
      "cell_type": "code",
      "execution_count": 4,
      "metadata": {
        "id": "WOQ3H3za6ZEV"
      },
      "outputs": [],
      "source": [
        "class NN(nn.Module):\n",
        "    def __init__(self,n_h1,n_h2,p):\n",
        "        super(NN, self).__init__()\n",
        "        self.conv1 = nn.Conv2d(1, 32, 3,stride=1)\n",
        "        self.bn1 = nn.BatchNorm2d(32)\n",
        "        self.maxpool1 = nn.MaxPool2d(2,stride=2)\n",
        "        self.conv2 = nn.Conv2d(32, 64, 3,stride=1)\n",
        "        self.bn2 = nn.BatchNorm2d(64)\n",
        "        self.maxpool2 = nn.MaxPool2d(2,stride=2)\n",
        "        self.conv3 = nn.Conv2d(64, 256, 3,stride=1)\n",
        "        self.bn3 = nn.BatchNorm2d(256)\n",
        "        self.maxpool3 = nn.MaxPool2d(2,stride=1)\n",
        "        self.conv4 = nn.Conv2d(256, 512, 3,stride=1)\n",
        "        self.fc1 = nn.Linear(512, n_h1)\n",
        "        self.dropout = nn.Dropout(p)\n",
        "        self.fc2 = nn.Linear(n_h1, n_h2)\n",
        "    \n",
        "    def forward(self, x):\n",
        "        x = F.relu(self.bn1(self.conv1(x)))\n",
        "        x = self.maxpool1(x)\n",
        "        x = F.relu(self.bn2(self.conv2(x)))\n",
        "        x = self.maxpool2(x)\n",
        "        x = F.relu(self.bn3(self.conv3(x)))\n",
        "        x = self.maxpool3(x)\n",
        "        x = F.relu(self.conv4(x))\n",
        "        x = torch.flatten(x, 1)\n",
        "        x = self.fc1(x)\n",
        "        x = F.relu(x)\n",
        "        x = self.dropout(x)\n",
        "        x = self.fc2(x)\n",
        "        return x"
      ]
    },
    {
      "cell_type": "code",
      "execution_count": 5,
      "metadata": {
        "colab": {
          "base_uri": "https://localhost:8080/"
        },
        "id": "y6aWmq6zi32_",
        "outputId": "197583b2-adf9-47ac-f855-7c765657c079"
      },
      "outputs": [
        {
          "name": "stdout",
          "output_type": "stream",
          "text": [
            "Total Images: 78200, Data Shape = (78200, 1024)\n",
            "Total Images: 4600, Data Shape = (4600, 1024)\n"
          ]
        }
      ],
      "source": [
        "train_data = DevanagariDataset(\n",
        "    data_csv = \"devanagari/train_data_shuffled.csv\",\n",
        "    # data_csv = \"/content/drive/MyDrive/A2.2/devanagari/train_data_shuffled.csv\",\n",
        "    train = True, \n",
        "    img_transform = transforms.ToTensor()\n",
        ")\n",
        "test_data = DevanagariDataset(\n",
        "    data_csv = \"devanagari/public_test.csv\",\n",
        "    # data_csv = \"/content/drive/MyDrive/A2.2/devanagari/public_test.csv\",\n",
        "    train = True, \n",
        "    img_transform = transforms.ToTensor()\n",
        ")"
      ]
    },
    {
      "cell_type": "code",
      "execution_count": 6,
      "metadata": {
        "id": "AfkwbHrzi83V"
      },
      "outputs": [],
      "source": [
        "device = torch.device(\"cuda:0\" if torch.cuda.is_available() else \"cpu\")"
      ]
    },
    {
      "cell_type": "code",
      "execution_count": 7,
      "metadata": {
        "id": "djcoG5sKi_7Y"
      },
      "outputs": [],
      "source": [
        "batch_size = 200\n",
        "epochs = 8\n",
        "lr = 1e-4\n",
        "torch.manual_seed(51)\n",
        "model = NN(256, 46, 0.2)\n",
        "model.to(device)\n",
        "loss = nn.CrossEntropyLoss().to(device)\n",
        "optimizer = optim.Adam(model.parameters(), lr = lr)\n"
      ]
    },
    {
      "cell_type": "code",
      "execution_count": null,
      "metadata": {},
      "outputs": [],
      "source": [
        "sum(p.numel() for p in model.parameters())"
      ]
    },
    {
      "cell_type": "code",
      "execution_count": 8,
      "metadata": {
        "id": "BMwtTutZjCr1"
      },
      "outputs": [],
      "source": [
        "train_loader = DataLoader(dataset = train_data, batch_size = batch_size, shuffle = False)\n",
        "test_loader = DataLoader(dataset = test_data, batch_size = len(test_data), shuffle = False)"
      ]
    },
    {
      "cell_type": "code",
      "execution_count": 9,
      "metadata": {
        "id": "DOCfzMwbjEod"
      },
      "outputs": [],
      "source": [
        "loss_vals = []\n",
        "accs = []"
      ]
    },
    {
      "cell_type": "code",
      "execution_count": 10,
      "metadata": {
        "colab": {
          "base_uri": "https://localhost:8080/"
        },
        "id": "eAFxQ8DPjGfl",
        "outputId": "41da839b-d430-4eb3-fa12-85ef8f1c3b9b"
      },
      "outputs": [
        {
          "name": "stderr",
          "output_type": "stream",
          "text": [
            "Epoch 1:   0%|          | 0/391 [00:00<?, ?batch/s]/usr/local/lib/python3.7/dist-packages/torch/nn/functional.py:718: UserWarning: Named tensors and all their associated APIs are an experimental feature and subject to change. Please do not use them for anything important until they are released as stable. (Triggered internally at  /pytorch/c10/core/TensorImpl.h:1156.)\n",
            "  return torch.max_pool2d(input, kernel_size, stride, padding, dilation, ceil_mode)\n",
            "Epoch 1: 100%|██████████| 391/391 [00:19<00:00, 20.25batch/s, accuracy=91.5, loss=0.378]\n"
          ]
        },
        {
          "name": "stdout",
          "output_type": "stream",
          "text": [
            "Train Loss 1.359471805412751\n",
            "Train Accuracy 0.6554475703324808\n",
            "Test Accuracy 0.8719565217391304\n"
          ]
        },
        {
          "name": "stderr",
          "output_type": "stream",
          "text": [
            "Epoch 2: 100%|██████████| 391/391 [00:18<00:00, 21.23batch/s, accuracy=93, loss=0.217]\n"
          ]
        },
        {
          "name": "stdout",
          "output_type": "stream",
          "text": [
            "Train Loss 0.33145143651901304\n",
            "Train Accuracy 0.907314578005116\n",
            "Test Accuracy 0.9347826086956522\n"
          ]
        },
        {
          "name": "stderr",
          "output_type": "stream",
          "text": [
            "Epoch 3: 100%|██████████| 391/391 [00:18<00:00, 21.39batch/s, accuracy=97.5, loss=0.119]\n"
          ]
        },
        {
          "name": "stdout",
          "output_type": "stream",
          "text": [
            "Train Loss 0.19539045243312025\n",
            "Train Accuracy 0.9454731457800498\n",
            "Test Accuracy 0.9484782608695652\n"
          ]
        },
        {
          "name": "stderr",
          "output_type": "stream",
          "text": [
            "Epoch 4: 100%|██████████| 391/391 [00:18<00:00, 21.38batch/s, accuracy=96, loss=0.104]\n"
          ]
        },
        {
          "name": "stdout",
          "output_type": "stream",
          "text": [
            "Train Loss 0.13362599330027694\n",
            "Train Accuracy 0.9620971867007677\n",
            "Test Accuracy 0.96\n"
          ]
        },
        {
          "name": "stderr",
          "output_type": "stream",
          "text": [
            "Epoch 5: 100%|██████████| 391/391 [00:18<00:00, 21.29batch/s, accuracy=97.5, loss=0.078]\n"
          ]
        },
        {
          "name": "stdout",
          "output_type": "stream",
          "text": [
            "Train Loss 0.1004137891866362\n",
            "Train Accuracy 0.9717263427110007\n",
            "Test Accuracy 0.9617391304347827\n"
          ]
        },
        {
          "name": "stderr",
          "output_type": "stream",
          "text": [
            "Epoch 6: 100%|██████████| 391/391 [00:18<00:00, 21.37batch/s, accuracy=98, loss=0.0617]\n"
          ]
        },
        {
          "name": "stdout",
          "output_type": "stream",
          "text": [
            "Train Loss 0.07590792702553827\n",
            "Train Accuracy 0.9784910485933546\n",
            "Test Accuracy 0.9676086956521739\n"
          ]
        },
        {
          "name": "stderr",
          "output_type": "stream",
          "text": [
            "Epoch 7: 100%|██████████| 391/391 [00:18<00:00, 21.36batch/s, accuracy=97, loss=0.056]\n"
          ]
        },
        {
          "name": "stdout",
          "output_type": "stream",
          "text": [
            "Train Loss 0.06045453268034227\n",
            "Train Accuracy 0.9831969309462966\n",
            "Test Accuracy 0.9715217391304348\n"
          ]
        },
        {
          "name": "stderr",
          "output_type": "stream",
          "text": [
            "Epoch 8: 100%|██████████| 391/391 [00:18<00:00, 21.40batch/s, accuracy=99.5, loss=0.0275]\n"
          ]
        },
        {
          "name": "stdout",
          "output_type": "stream",
          "text": [
            "Train Loss 0.04844150289683543\n",
            "Train Accuracy 0.9869181585677794\n",
            "Test Accuracy 0.9741304347826087\n"
          ]
        }
      ],
      "source": [
        "for epoch in range(epochs):\n",
        "    train_loss = 0\n",
        "    accu_train = 0\n",
        "    print(\"Epoch:\", epoch+1)\n",
        "    for batch in train_loader:\n",
        "        batch_x, batch_y = batch[\"images\"].to(device), batch[\"labels\"].to(device)\n",
        "        y_hat = model.forward(batch_x)\n",
        "        loss_val = loss(y_hat, batch_y)\n",
        "        train_loss+=loss_val.item()\n",
        "        optimizer.zero_grad()\n",
        "        loss_val.backward()\n",
        "        optimizer.step()\n",
        "\n",
        "        predictions = y_hat.argmax(dim=1, keepdim=True).squeeze()\n",
        "        correct = (predictions == batch_y).sum().item()\n",
        "        acc = correct / len(batch_x)\n",
        "        accu_train+=acc\n",
        "\n",
        "    for batch in test_loader:\n",
        "        batch_x, batch_y = batch[\"images\"].to(device), batch[\"labels\"].to(device)\n",
        "        y_hat = model.forward(batch_x)\n",
        "        predictions = y_hat.argmax(dim=1, keepdim=True).squeeze()\n",
        "        correct = (predictions == batch_y).sum().item()\n",
        "        acc = correct / len(batch_y)\n",
        "        accs.append(acc)\n",
        "    loss_vals.append(train_loss/len(train_loader))\n",
        "    print(\"Train Loss\",loss_vals[-1])\n",
        "    print(\"Train Accuracy\",accu_train/len(train_loader))\n",
        "    print(\"Test Accuracy\",accs[-1])"
      ]
    },
    {
      "cell_type": "code",
      "execution_count": null,
      "metadata": {},
      "outputs": [],
      "source": [
        "model_path = \"./model.pth\"\n",
        "loss_path = \"./loss.txt\"\n",
        "acc_path = \"./accuracy.txt\"\n",
        "pred_path = \"./predictions.txt\""
      ]
    },
    {
      "cell_type": "code",
      "execution_count": 14,
      "metadata": {
        "id": "-wQRcPpQjIkJ"
      },
      "outputs": [],
      "source": [
        "torch.save(model.state_dict(), model_path)\n",
        "np.savetxt(acc_path, accs)\n",
        "np.savetxt(loss_path, loss_vals)"
      ]
    },
    {
      "cell_type": "code",
      "execution_count": 17,
      "metadata": {
        "colab": {
          "base_uri": "https://localhost:8080/"
        },
        "id": "ZNF1kZ6bjQHQ",
        "outputId": "9404e2e1-4615-417c-f98a-17eac38907d3"
      },
      "outputs": [
        {
          "data": {
            "text/plain": [
              "<All keys matched successfully>"
            ]
          },
          "execution_count": 17,
          "metadata": {},
          "output_type": "execute_result"
        }
      ],
      "source": [
        "torch.manual_seed(51)\n",
        "model2 = NN(256, 46, 0.2)\n",
        "model2.to(device)\n",
        "model2.load_state_dict(torch.load(model_path, map_location=device))\n",
        "for batch in test_loader:\n",
        "    batch_x, batch_y = batch[\"images\"].to(device), batch[\"labels\"].to(device)\n",
        "    y_hat = model2.forward(batch_x)\n",
        "    y_hat = torch.argmax(y_hat, dim=1)\n",
        "    np.savetxt(\"./predictions.txt\", y_hat.detach().cpu().numpy())"
      ]
    },
    {
      "cell_type": "code",
      "execution_count": null,
      "metadata": {
        "id": "O4iFkOkcM6nl"
      },
      "outputs": [],
      "source": [
        "a = np.loadtxt(\"predictions.txt\")\n",
        "b = np.loadtxt(\"predictions2.txt\")\n",
        "c = [0 if a[i]==b[i] else 1 for i in range(len(a))]\n",
        "sum(c)"
      ]
    }
  ],
  "metadata": {
    "accelerator": "GPU",
    "colab": {
      "name": "a.ipynb",
      "provenance": []
    },
    "interpreter": {
      "hash": "7a3d88c904243d2c3f246166597f86d1c0a39f3d97496d1fe394945d0c6d436d"
    },
    "kernelspec": {
      "display_name": "Python 3.7.12 64-bit",
      "name": "python3"
    },
    "language_info": {
      "codemirror_mode": {
        "name": "ipython",
        "version": 3
      },
      "file_extension": ".py",
      "mimetype": "text/x-python",
      "name": "python",
      "nbconvert_exporter": "python",
      "pygments_lexer": "ipython3",
      "version": "3.7.12"
    },
    "orig_nbformat": 4
  },
  "nbformat": 4,
  "nbformat_minor": 0
}
